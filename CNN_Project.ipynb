{
 "cells": [
  {
   "cell_type": "markdown",
   "metadata": {},
   "source": [
    "## Concerns:\n",
    "\n",
    "- dropout\n",
    "- batch size\n",
    "- ReLu\n",
    "\n",
    "\n",
    "- transfer learning\n",
    "\n",
    "## Problems:\n",
    "\n",
    "- data format: 分行还是分列，（1$\\times$512 array的数据中包含8个方向的信息1$\\times$64，对应一个通道？）\n",
    "- lable的方法"
   ]
  },
  {
   "cell_type": "code",
   "execution_count": null,
   "metadata": {
    "collapsed": true
   },
   "outputs": [],
   "source": []
  }
 ],
 "metadata": {
  "kernelspec": {
   "display_name": "Python 3",
   "language": "python",
   "name": "python3"
  },
  "language_info": {
   "codemirror_mode": {
    "name": "ipython",
    "version": 3
   },
   "file_extension": ".py",
   "mimetype": "text/x-python",
   "name": "python",
   "nbconvert_exporter": "python",
   "pygments_lexer": "ipython3",
   "version": "3.5.3"
  }
 },
 "nbformat": 4,
 "nbformat_minor": 2
}
